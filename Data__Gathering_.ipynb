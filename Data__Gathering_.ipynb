{
  "nbformat": 4,
  "nbformat_minor": 0,
  "metadata": {
    "colab": {
      "name": "Data _Gathering .ipynb",
      "provenance": []
    },
    "kernelspec": {
      "name": "python3",
      "display_name": "Python 3"
    }
  },
  "cells": [
    {
      "cell_type": "code",
      "metadata": {
        "id": "ds_FmrYoMgq3",
        "colab_type": "code",
        "colab": {}
      },
      "source": [
        "!sudo apt install python3-pip\n",
        "!pip3 install --user kaggle"
      ],
      "execution_count": null,
      "outputs": []
    },
    {
      "cell_type": "code",
      "metadata": {
        "id": "AB6Uini2NPvS",
        "colab_type": "code",
        "colab": {}
      },
      "source": [
        "mkdir ~/.kaggle"
      ],
      "execution_count": null,
      "outputs": []
    },
    {
      "cell_type": "code",
      "metadata": {
        "id": "jRVBs3sZgBlf",
        "colab_type": "code",
        "colab": {}
      },
      "source": [
        "from google.colab import files\n",
        "my_file=files.upload()"
      ],
      "execution_count": null,
      "outputs": []
    },
    {
      "cell_type": "code",
      "metadata": {
        "id": "N87iceHVhBHe",
        "colab_type": "code",
        "colab": {}
      },
      "source": [
        "%reload_ext autoreload\n",
        "%autoreload 2\n",
        "import warnings\n",
        "import os\n",
        "import pandas as pd\n",
        "warnings.filterwarnings(\"ignore\")\n",
        "cred = pd.read_json(\"kaggle.json\",lines=True)\n",
        "os.environ['KAGGLE_USERNAME'] = cred.iloc[0][0]\n",
        "os.environ['KAGGLE_KEY'] = cred.iloc[0][1]"
      ],
      "execution_count": null,
      "outputs": []
    },
    {
      "cell_type": "code",
      "metadata": {
        "id": "E-qPONGkNd9F",
        "colab_type": "code",
        "colab": {}
      },
      "source": [
        "!kaggle datasets init -p /content/dataset/"
      ],
      "execution_count": null,
      "outputs": []
    },
    {
      "cell_type": "code",
      "metadata": {
        "id": "qtPvR1tGeIPC",
        "colab_type": "code",
        "colab": {}
      },
      "source": [
        "with open('/content/drive/My Drive/face_detection/dataset-metadata.json', 'w') as f:\n",
        "  f.write('{\"title\": \"face_detection\",\"id\": \"mridul18/face-detection\",\"licenses\":[{\"name\": \"CC0-1.0\"}]}')"
      ],
      "execution_count": null,
      "outputs": []
    },
    {
      "cell_type": "code",
      "metadata": {
        "id": "dMg0_fO7heiD",
        "colab_type": "code",
        "colab": {}
      },
      "source": [
        "!kaggle datasets create -p /content/dataset\n"
      ],
      "execution_count": null,
      "outputs": []
    }
  ]
}